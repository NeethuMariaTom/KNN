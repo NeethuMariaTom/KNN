{
 "cells": [
  {
   "cell_type": "markdown",
   "id": "0d1f8ebf",
   "metadata": {},
   "source": [
    "# KNN Algorithm\n",
    "- Supervised learning algorithm used for classification,regression and missing value treatment.\n",
    "- Value of k is found by plotting error curve. Business knowledge is also important in identifying optimum value of k.\n",
    "- Dimensionality reduction and feature scaling is important before applying the knn algorithm as it takes all data points to memory and calculate the least distant data point."
   ]
  },
  {
   "cell_type": "code",
   "execution_count": 2,
   "id": "2bc7a863",
   "metadata": {},
   "outputs": [],
   "source": [
    "import pandas as pd\n",
    "import numpy as np\n",
    "import matplotlib.pyplot as plt\n",
    "from sklearn.datasets import make_classification\n",
    "from sklearn.model_selection import train_test_split\n",
    "from sklearn.preprocessing import StandardScaler\n",
    "from sklearn.neighbors import KNeighborsClassifier\n",
    "from sklearn import metrics"
   ]
  },
  {
   "cell_type": "code",
   "execution_count": 15,
   "id": "7c72162c",
   "metadata": {},
   "outputs": [],
   "source": [
    "df = make_classification(n_samples=200,n_features=8,n_classes=2)\n",
    "X=pd.DataFrame(df[0])\n",
    "y=pd.DataFrame(df[1])"
   ]
  },
  {
   "cell_type": "code",
   "execution_count": 16,
   "id": "24f2f9eb",
   "metadata": {
    "scrolled": true
   },
   "outputs": [
    {
     "data": {
      "text/plain": [
       "(200, 8)"
      ]
     },
     "execution_count": 16,
     "metadata": {},
     "output_type": "execute_result"
    }
   ],
   "source": [
    "X.shape"
   ]
  },
  {
   "cell_type": "code",
   "execution_count": 17,
   "id": "af8d9c5f",
   "metadata": {},
   "outputs": [
    {
     "data": {
      "text/html": [
       "<div>\n",
       "<style scoped>\n",
       "    .dataframe tbody tr th:only-of-type {\n",
       "        vertical-align: middle;\n",
       "    }\n",
       "\n",
       "    .dataframe tbody tr th {\n",
       "        vertical-align: top;\n",
       "    }\n",
       "\n",
       "    .dataframe thead th {\n",
       "        text-align: right;\n",
       "    }\n",
       "</style>\n",
       "<table border=\"1\" class=\"dataframe\">\n",
       "  <thead>\n",
       "    <tr style=\"text-align: right;\">\n",
       "      <th></th>\n",
       "      <th>0</th>\n",
       "      <th>1</th>\n",
       "      <th>2</th>\n",
       "      <th>3</th>\n",
       "      <th>4</th>\n",
       "      <th>5</th>\n",
       "      <th>6</th>\n",
       "      <th>7</th>\n",
       "    </tr>\n",
       "  </thead>\n",
       "  <tbody>\n",
       "    <tr>\n",
       "      <th>0</th>\n",
       "      <td>-1.570074</td>\n",
       "      <td>0.637005</td>\n",
       "      <td>0.966646</td>\n",
       "      <td>-0.474765</td>\n",
       "      <td>-0.383831</td>\n",
       "      <td>2.330694</td>\n",
       "      <td>0.789342</td>\n",
       "      <td>0.655104</td>\n",
       "    </tr>\n",
       "    <tr>\n",
       "      <th>1</th>\n",
       "      <td>0.947345</td>\n",
       "      <td>-0.725306</td>\n",
       "      <td>-0.249800</td>\n",
       "      <td>0.976627</td>\n",
       "      <td>-1.012006</td>\n",
       "      <td>-1.193062</td>\n",
       "      <td>-1.625360</td>\n",
       "      <td>-0.855667</td>\n",
       "    </tr>\n",
       "    <tr>\n",
       "      <th>2</th>\n",
       "      <td>-1.042299</td>\n",
       "      <td>0.983167</td>\n",
       "      <td>0.093749</td>\n",
       "      <td>0.277567</td>\n",
       "      <td>-1.634155</td>\n",
       "      <td>1.196849</td>\n",
       "      <td>-1.980318</td>\n",
       "      <td>0.395529</td>\n",
       "    </tr>\n",
       "    <tr>\n",
       "      <th>3</th>\n",
       "      <td>-0.631964</td>\n",
       "      <td>2.231329</td>\n",
       "      <td>-1.542398</td>\n",
       "      <td>0.650561</td>\n",
       "      <td>1.044398</td>\n",
       "      <td>-0.296948</td>\n",
       "      <td>-0.979894</td>\n",
       "      <td>-0.439358</td>\n",
       "    </tr>\n",
       "    <tr>\n",
       "      <th>4</th>\n",
       "      <td>0.295530</td>\n",
       "      <td>-0.446902</td>\n",
       "      <td>0.137858</td>\n",
       "      <td>-0.394072</td>\n",
       "      <td>-0.428941</td>\n",
       "      <td>-0.234202</td>\n",
       "      <td>0.192120</td>\n",
       "      <td>-0.443188</td>\n",
       "    </tr>\n",
       "  </tbody>\n",
       "</table>\n",
       "</div>"
      ],
      "text/plain": [
       "          0         1         2         3         4         5         6  \\\n",
       "0 -1.570074  0.637005  0.966646 -0.474765 -0.383831  2.330694  0.789342   \n",
       "1  0.947345 -0.725306 -0.249800  0.976627 -1.012006 -1.193062 -1.625360   \n",
       "2 -1.042299  0.983167  0.093749  0.277567 -1.634155  1.196849 -1.980318   \n",
       "3 -0.631964  2.231329 -1.542398  0.650561  1.044398 -0.296948 -0.979894   \n",
       "4  0.295530 -0.446902  0.137858 -0.394072 -0.428941 -0.234202  0.192120   \n",
       "\n",
       "          7  \n",
       "0  0.655104  \n",
       "1 -0.855667  \n",
       "2  0.395529  \n",
       "3 -0.439358  \n",
       "4 -0.443188  "
      ]
     },
     "execution_count": 17,
     "metadata": {},
     "output_type": "execute_result"
    }
   ],
   "source": [
    "X.head()"
   ]
  },
  {
   "cell_type": "code",
   "execution_count": 18,
   "id": "cda06b17",
   "metadata": {},
   "outputs": [
    {
     "data": {
      "text/plain": [
       "(200, 1)"
      ]
     },
     "execution_count": 18,
     "metadata": {},
     "output_type": "execute_result"
    }
   ],
   "source": [
    "y.shape"
   ]
  },
  {
   "cell_type": "code",
   "execution_count": 30,
   "id": "b9affcd2",
   "metadata": {},
   "outputs": [],
   "source": [
    "# split data for train and test\n",
    "X_train,X_test,y_train,y_test = train_test_split(X,y,train_size=0.8)\n"
   ]
  },
  {
   "cell_type": "code",
   "execution_count": 31,
   "id": "b94b4d03",
   "metadata": {},
   "outputs": [],
   "source": [
    "#scale data before training\n",
    "\n",
    "scaler =  StandardScaler()\n",
    "X_train = pd.DataFrame(scaler.fit_transform(X_train))\n",
    "X_test  = pd.DataFrame(scaler.transform(X_test))"
   ]
  },
  {
   "cell_type": "code",
   "execution_count": 42,
   "id": "31aae7ab",
   "metadata": {},
   "outputs": [],
   "source": [
    "y_train=(np.asarray(y_train)).reshape(X_train.shape[0])\n"
   ]
  },
  {
   "cell_type": "code",
   "execution_count": 46,
   "id": "85ad0123",
   "metadata": {},
   "outputs": [],
   "source": [
    "y_test =(np.asarray(y_test)).reshape(X_test.shape[0])"
   ]
  },
  {
   "cell_type": "code",
   "execution_count": 47,
   "id": "adc55f57",
   "metadata": {},
   "outputs": [],
   "source": [
    "# Find optimum value of k\n",
    "error1= []\n",
    "error2= []\n",
    "for k in range(1,15):\n",
    "    knn = KNeighborsClassifier(n_neighbors = k)\n",
    "    knn.fit(X_train,y_train)\n",
    "    train_pred = knn.predict(X_train)\n",
    "    error1.append(np.mean(y_train!=train_pred))\n",
    "    test_pred = knn.predict(X_test)\n",
    "    error2.append(np.mean(y_test!=test_pred))\n",
    "\n",
    "\n",
    "\n"
   ]
  },
  {
   "cell_type": "code",
   "execution_count": 48,
   "id": "44ce5238",
   "metadata": {},
   "outputs": [
    {
     "data": {
      "text/plain": [
       "<matplotlib.legend.Legend at 0x7f87ee61af98>"
      ]
     },
     "execution_count": 48,
     "metadata": {},
     "output_type": "execute_result"
    },
    {
     "data": {
      "image/png": "[encoded data removed]",
      "text/plain": [
       "<Figure size 432x288 with 1 Axes>"
      ]
     },
     "metadata": {
      "needs_background": "light"
     },
     "output_type": "display_data"
    }
   ],
   "source": [
    "plt.plot(range(1,15),error1,label=\"train\")\n",
    "plt.plot(range(1,15),error2,label=\"test\")\n",
    "plt.xlabel('k Value')\n",
    "plt.ylabel('Error')\n",
    "plt.legend()\n"
   ]
  },
  {
   "cell_type": "markdown",
   "id": "2c56a8b9",
   "metadata": {},
   "source": [
    "We will choose k value as 5 as after value of 5 error is increasing"
   ]
  },
  {
   "cell_type": "code",
   "execution_count": 49,
   "id": "9b22b124",
   "metadata": {},
   "outputs": [
    {
     "data": {
      "text/plain": [
       "0.925"
      ]
     },
     "execution_count": 49,
     "metadata": {},
     "output_type": "execute_result"
    }
   ],
   "source": [
    "knn= KNeighborsClassifier(n_neighbors=5)\n",
    "knn.fit(X_train,y_train)\n",
    "y_pred= knn.predict(X_test)\n",
    "metrics.accuracy_score(y_test,y_pred)"
   ]
  }
 ],
 "metadata": {
  "kernelspec": {
   "display_name": "Python 3",
   "language": "python",
   "name": "python3"
  },
  "language_info": {
   "codemirror_mode": {
    "name": "ipython",
    "version": 3
   },
   "file_extension": ".py",
   "mimetype": "text/x-python",
   "name": "python",
   "nbconvert_exporter": "python",
   "pygments_lexer": "ipython3",
   "version": "3.7.3"
  }
 },
 "nbformat": 4,
 "nbformat_minor": 5
}
